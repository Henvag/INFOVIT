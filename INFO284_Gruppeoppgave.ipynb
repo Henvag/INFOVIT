{
  "nbformat": 4,
  "nbformat_minor": 0,
  "metadata": {
    "colab": {
      "provenance": [],
      "authorship_tag": "ABX9TyOe5lFM+s/vH31X4sBmOr5i",
      "include_colab_link": true
    },
    "kernelspec": {
      "name": "python3",
      "display_name": "Python 3"
    },
    "language_info": {
      "name": "python"
    }
  },
  "cells": [
    {
      "cell_type": "markdown",
      "metadata": {
        "id": "view-in-github",
        "colab_type": "text"
      },
      "source": [
        "<a href=\"https://colab.research.google.com/github/Henvag/INFOVIT/blob/main/INFO284_Gruppeoppgave.ipynb\" target=\"_parent\"><img src=\"https://colab.research.google.com/assets/colab-badge.svg\" alt=\"Open In Colab\"/></a>"
      ]
    },
    {
      "cell_type": "markdown",
      "source": [
        "Gruppeoppgave for INFO284\n",
        "\n",
        "Alle libraries osv som vi trenger er installert fra før ✅\n",
        "\n",
        "\n",
        "\n"
      ],
      "metadata": {
        "id": "yVFIiyXlnEbD"
      }
    },
    {
      "cell_type": "code",
      "source": [
        "x = 2"
      ],
      "metadata": {
        "id": "rxiJGuzfnFGd"
      },
      "execution_count": 2,
      "outputs": []
    }
  ]
}